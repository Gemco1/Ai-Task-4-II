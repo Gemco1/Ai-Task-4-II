{
 "cells": [
  {
   "cell_type": "code",
   "execution_count": 2,
   "id": "324ddbe8",
   "metadata": {
    "ExecuteTime": {
     "end_time": "2021-10-04T21:33:11.262921Z",
     "start_time": "2021-10-04T21:33:11.246923Z"
    }
   },
   "outputs": [
    {
     "name": "stdout",
     "output_type": "stream",
     "text": [
      "21.159999999999997\n"
     ]
    }
   ],
   "source": [
    "class Fuck:\n",
    "    from multipledispatch import dispatch\n",
    "\n",
    "    @dispatch(int,int)\n",
    "    def product(first,second):\n",
    "        result = first*second\n",
    "        print(result);\n",
    "\n",
    "\n",
    "    @dispatch(int,int,int)\n",
    "    def product(first,second,third):\n",
    "        result = first + second + third\n",
    "        print(result);\n",
    "\n",
    "\n",
    "    @dispatch(float,float,float)\n",
    "    def product(first,second,third):\n",
    "        result = first * second * third\n",
    "        print(result);\n",
    "\n",
    "NewFuck = Fuck()\n",
    "\n",
    "NewFuck.product(2.3,4.6,2.0)"
   ]
  }
 ],
 "metadata": {
  "kernelspec": {
   "display_name": "Python 3",
   "language": "python",
   "name": "python3"
  },
  "language_info": {
   "codemirror_mode": {
    "name": "ipython",
    "version": 3
   },
   "file_extension": ".py",
   "mimetype": "text/x-python",
   "name": "python",
   "nbconvert_exporter": "python",
   "pygments_lexer": "ipython3",
   "version": "3.8.8"
  },
  "varInspector": {
   "cols": {
    "lenName": 16,
    "lenType": 16,
    "lenVar": 40
   },
   "kernels_config": {
    "python": {
     "delete_cmd_postfix": "",
     "delete_cmd_prefix": "del ",
     "library": "var_list.py",
     "varRefreshCmd": "print(var_dic_list())"
    },
    "r": {
     "delete_cmd_postfix": ") ",
     "delete_cmd_prefix": "rm(",
     "library": "var_list.r",
     "varRefreshCmd": "cat(var_dic_list()) "
    }
   },
   "types_to_exclude": [
    "module",
    "function",
    "builtin_function_or_method",
    "instance",
    "_Feature"
   ],
   "window_display": false
  }
 },
 "nbformat": 4,
 "nbformat_minor": 5
}
